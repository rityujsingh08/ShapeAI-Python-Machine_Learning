{
  "nbformat": 4,
  "nbformat_minor": 0,
  "metadata": {
    "colab": {
      "provenance": []
    },
    "kernelspec": {
      "name": "python3",
      "display_name": "Python 3"
    },
    "language_info": {
      "name": "python"
    }
  },
  "cells": [
    {
      "cell_type": "markdown",
      "source": [],
      "metadata": {
        "id": "zNinQSlQ9DDB"
      }
    },
    {
      "cell_type": "markdown",
      "source": [],
      "metadata": {
        "id": "akPRoxQ593wX"
      }
    },
    {
      "cell_type": "code",
      "source": [
        "import numpy as np\n",
        "\n",
        "import pandas as pd import sklearn\n",
        "\n",
        "from sklearn.datasets import load_boston df load_boston()\n",
        "\n",
        "df.keys()\n",
        "\n",
        "dict_keys(['data', 'target', 'feature_names', 'DESCR', 'filename', 'data_module'])\n",
        "\n",
        "print(df.DESCR)\n",
        "\n",
        "boston = pd.DataFrame(df.data, columns=df.feature_names) boston.head()\n",
        "\n",
        "boston[ 'MEDV'] = df.target\n",
        "\n",
        "boston.head()\n",
        "\n",
        "boston.isnull().sum()\n",
        "\n",
        "from sklearn.model_selection import train_test_split X = boston.drop('MEDV, axis=1)\n",
        "\n",
        "Y = boston[ 'MEDV']\n",
        "\n",
        "X_train, X_test, Y_train, Y_test= train_test_split(X, Y, test_size = 0.15, random_state=5)\n",
        "\n",
        "print (X_train.shape)\n",
        "\n",
        "print (X_test.shape) print (V_train.shape)\n",
        "\n",
        "print(V_test.shape)\n",
        "\n",
        "from sklearn.linear_model import Linear Regression from sklearn.metrics import mean squared error\n",
        "\n",
        "lin_model LinearRegression()\n",
        "\n",
        "lin_model.fit(X_train, Y_train)\n",
        "\n",
        "y_train_predict = lin_model.predict(X_train)\n",
        "\n",
        "rmse (np.sqrt(mean squared_error(Y_train, y_train_predict)))\n",
        "\n",
        "print(\"The model performance for training set\")\n",
        "\n",
        "print('RMSE is {}'.format(rmse)) print(\"\\n\")\n",
        "\n",
        "y_test_predict lin_model.predict(x_test)\n",
        "\n",
        "rmse (np.sqrt(mean_squared_error(Y_test, y_test_predict)))\n",
        "\n",
        "print(\"The model performance for testing set\")\n",
        "\n",
        "print('RMSE is {}'.format(rmse))"
      ],
      "metadata": {
        "id": "PzgUxzFWAQaO"
      },
      "execution_count": null,
      "outputs": []
    }
  ]
}